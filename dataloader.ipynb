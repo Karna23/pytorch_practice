{
 "cells": [
  {
   "cell_type": "code",
   "execution_count": 2,
   "metadata": {},
   "outputs": [],
   "source": [
    "import torch\n",
    "import torch.nn as nn\n",
    "import numpy as np\n",
    "import torchvision\n",
    "from torch.utils.data import Dataset, DataLoader\n",
    "import math"
   ]
  },
  {
   "cell_type": "code",
   "execution_count": 4,
   "metadata": {},
   "outputs": [],
   "source": [
    "class WineDataset(Dataset):\n",
    "\n",
    "    def __init__(self):\n",
    "        # Initialize data, download, etc.\n",
    "        # read with numpy or pandas\n",
    "        xy = np.loadtxt('./data/wine/wine.csv', delimiter=',', dtype=np.float32, skiprows=1)\n",
    "        self.n_samples = xy.shape[0]\n",
    "\n",
    "        # here the first column is the class label, the rest are the features\n",
    "        self.x_data = torch.from_numpy(xy[:, 1:]) # size [n_samples, n_features]\n",
    "        self.y_data = torch.from_numpy(xy[:, [0]]) # size [n_samples, 1]\n",
    "\n",
    "    # support indexing such that dataset[i] can be used to get i-th sample\n",
    "    def __getitem__(self, index):\n",
    "        return self.x_data[index], self.y_data[index]\n",
    "\n",
    "    # we can call len(dataset) to return the size\n",
    "    def __len__(self):\n",
    "        return self.n_samples\n",
    "\n",
    "dataset = WineDataset()\n",
    "\n",
    "train_loader = DataLoader(dataset=dataset,\n",
    "                          batch_size=4,\n",
    "                          shuffle=True,\n",
    "                          num_workers=0)\n",
    "\n",
    "dataiter = iter(train_loader)\n",
    "data = next(dataiter)"
   ]
  },
  {
   "cell_type": "code",
   "execution_count": 5,
   "metadata": {},
   "outputs": [
    {
     "data": {
      "text/plain": [
       "[tensor([[1.2850e+01, 1.6000e+00, 2.5200e+00, 1.7800e+01, 9.5000e+01, 2.4800e+00,\n",
       "          2.3700e+00, 2.6000e-01, 1.4600e+00, 3.9300e+00, 1.0900e+00, 3.6300e+00,\n",
       "          1.0150e+03],\n",
       "         [1.4390e+01, 1.8700e+00, 2.4500e+00, 1.4600e+01, 9.6000e+01, 2.5000e+00,\n",
       "          2.5200e+00, 3.0000e-01, 1.9800e+00, 5.2500e+00, 1.0200e+00, 3.5800e+00,\n",
       "          1.2900e+03],\n",
       "         [1.3050e+01, 2.0500e+00, 3.2200e+00, 2.5000e+01, 1.2400e+02, 2.6300e+00,\n",
       "          2.6800e+00, 4.7000e-01, 1.9200e+00, 3.5800e+00, 1.1300e+00, 3.2000e+00,\n",
       "          8.3000e+02],\n",
       "         [1.3160e+01, 2.3600e+00, 2.6700e+00, 1.8600e+01, 1.0100e+02, 2.8000e+00,\n",
       "          3.2400e+00, 3.0000e-01, 2.8100e+00, 5.6800e+00, 1.0300e+00, 3.1700e+00,\n",
       "          1.1850e+03]]),\n",
       " tensor([[1.],\n",
       "         [1.],\n",
       "         [1.],\n",
       "         [1.]])]"
      ]
     },
     "execution_count": 5,
     "metadata": {},
     "output_type": "execute_result"
    }
   ],
   "source": [
    "data"
   ]
  },
  {
   "cell_type": "code",
   "execution_count": 6,
   "metadata": {},
   "outputs": [
    {
     "name": "stdout",
     "output_type": "stream",
     "text": [
      "178\n",
      "45\n"
     ]
    }
   ],
   "source": [
    "## training loop\n",
    "\n",
    "\n",
    "num_epoch  = 2\n",
    "total_samples = len(dataset)\n",
    "\n",
    "n_iterations = math.ceil(total_samples/4)\n",
    "\n",
    "print(total_samples)\n",
    "print(n_iterations)"
   ]
  },
  {
   "cell_type": "code",
   "execution_count": 8,
   "metadata": {},
   "outputs": [
    {
     "name": "stdout",
     "output_type": "stream",
     "text": [
      "epoch 1/2 , step 5/45 , input torch.Size([4, 13])\n",
      "epoch 1/2 , step 10/45 , input torch.Size([4, 13])\n",
      "epoch 1/2 , step 15/45 , input torch.Size([4, 13])\n",
      "epoch 1/2 , step 20/45 , input torch.Size([4, 13])\n",
      "epoch 1/2 , step 25/45 , input torch.Size([4, 13])\n",
      "epoch 1/2 , step 30/45 , input torch.Size([4, 13])\n",
      "epoch 1/2 , step 35/45 , input torch.Size([4, 13])\n",
      "epoch 1/2 , step 40/45 , input torch.Size([4, 13])\n",
      "epoch 1/2 , step 45/45 , input torch.Size([2, 13])\n",
      "epoch 2/2 , step 5/45 , input torch.Size([4, 13])\n",
      "epoch 2/2 , step 10/45 , input torch.Size([4, 13])\n",
      "epoch 2/2 , step 15/45 , input torch.Size([4, 13])\n",
      "epoch 2/2 , step 20/45 , input torch.Size([4, 13])\n",
      "epoch 2/2 , step 25/45 , input torch.Size([4, 13])\n",
      "epoch 2/2 , step 30/45 , input torch.Size([4, 13])\n",
      "epoch 2/2 , step 35/45 , input torch.Size([4, 13])\n",
      "epoch 2/2 , step 40/45 , input torch.Size([4, 13])\n",
      "epoch 2/2 , step 45/45 , input torch.Size([2, 13])\n"
     ]
    }
   ],
   "source": [
    "for epoch in range(num_epoch):\n",
    "    for i , (inputs , labels) in enumerate(train_loader):\n",
    "        # forward backward, update\n",
    "        \n",
    "        if(i +1 ) %5 == 0 :\n",
    "            print(f'epoch {epoch +1}/{num_epoch} , step {i +1}/{n_iterations} , input {inputs.shape}')"
   ]
  },
  {
   "cell_type": "code",
   "execution_count": null,
   "metadata": {},
   "outputs": [],
   "source": []
  }
 ],
 "metadata": {
  "kernelspec": {
   "display_name": "base",
   "language": "python",
   "name": "base"
  },
  "language_info": {
   "codemirror_mode": {
    "name": "ipython",
    "version": 3
   },
   "file_extension": ".py",
   "mimetype": "text/x-python",
   "name": "python",
   "nbconvert_exporter": "python",
   "pygments_lexer": "ipython3",
   "version": "3.8.5"
  }
 },
 "nbformat": 4,
 "nbformat_minor": 4
}
