{
 "cells": [
  {
   "cell_type": "code",
   "execution_count": 2,
   "metadata": {},
   "outputs": [],
   "source": [
    "import torch\n",
    "import torch.nn as nn\n",
    "from sklearn import datasets\n",
    "import numpy as np\n",
    "from sklearn.preprocessing import StandardScaler\n",
    "from sklearn.model_selection import train_test_split"
   ]
  },
  {
   "cell_type": "code",
   "execution_count": 3,
   "metadata": {},
   "outputs": [],
   "source": [
    "bc = datasets.load_breast_cancer()\n",
    "X,y = bc.data, bc.target"
   ]
  },
  {
   "cell_type": "code",
   "execution_count": 5,
   "metadata": {},
   "outputs": [],
   "source": [
    "n_samples, n_features = X.shape"
   ]
  },
  {
   "cell_type": "code",
   "execution_count": 6,
   "metadata": {},
   "outputs": [
    {
     "name": "stdout",
     "output_type": "stream",
     "text": [
      "(569, 30)\n"
     ]
    }
   ],
   "source": [
    "print(X.shape)"
   ]
  },
  {
   "cell_type": "code",
   "execution_count": 11,
   "metadata": {},
   "outputs": [],
   "source": [
    "X_train , X_test , y_train , y_test = train_test_split(X, y , test_size = 0.2 , random_state = 1234)"
   ]
  },
  {
   "cell_type": "code",
   "execution_count": 12,
   "metadata": {},
   "outputs": [],
   "source": [
    "#Scale features IMP\n",
    "sc = StandardScaler()"
   ]
  },
  {
   "cell_type": "code",
   "execution_count": 13,
   "metadata": {},
   "outputs": [],
   "source": [
    "X_train = sc.fit_transform(X_train)\n",
    "X_test = sc.fit_transform(X_test)\n",
    "\n",
    "X_train = torch.from_numpy(X_train.astype(np.float32))\n",
    "X_test =  torch.from_numpy(X_test.astype(np.float32))\n",
    "y_train =  torch.from_numpy(y_train.astype(np.float32))\n",
    "y_test =  torch.from_numpy(y_test.astype(np.float32))\n",
    "\n",
    "y_train = y_train.view(y_train.shape[0], 1)\n",
    "y_test = y_test.view(y_test.shape[0], 1)"
   ]
  },
  {
   "cell_type": "code",
   "execution_count": 14,
   "metadata": {},
   "outputs": [],
   "source": [
    "#Model \n",
    "\n",
    "\n",
    "class LogisticRegression(nn.Module):\n",
    "    def __init__(self , input_features):\n",
    "        super(LogisticRegression , self).__init__()\n",
    "        #define layers\n",
    "        \n",
    "        self.lin = nn.Linear(input_features, 1)\n",
    "        \n",
    "    def forward(self,x):\n",
    "        y_pred = torch.sigmoid(self.lin(x))\n",
    "        return y_pred"
   ]
  },
  {
   "cell_type": "code",
   "execution_count": 15,
   "metadata": {},
   "outputs": [],
   "source": [
    "model = LogisticRegression(n_features)"
   ]
  },
  {
   "cell_type": "code",
   "execution_count": 16,
   "metadata": {},
   "outputs": [],
   "source": [
    "#loss and optimizer\n",
    "\n",
    "criterion = nn.BCELoss()\n",
    "optimizer = torch.optim.SGD(model.parameters(), lr = 0.001)\n"
   ]
  },
  {
   "cell_type": "code",
   "execution_count": 17,
   "metadata": {},
   "outputs": [
    {
     "name": "stdout",
     "output_type": "stream",
     "text": [
      "epoch = 10 , loss = 0.6958\n",
      "epoch = 20 , loss = 0.6761\n",
      "epoch = 30 , loss = 0.6575\n",
      "epoch = 40 , loss = 0.6401\n",
      "epoch = 50 , loss = 0.6237\n",
      "epoch = 60 , loss = 0.6082\n",
      "epoch = 70 , loss = 0.5936\n",
      "epoch = 80 , loss = 0.5799\n",
      "epoch = 90 , loss = 0.5669\n",
      "epoch = 100 , loss = 0.5546\n",
      "epoch = 110 , loss = 0.5430\n",
      "epoch = 120 , loss = 0.5320\n",
      "epoch = 130 , loss = 0.5216\n",
      "epoch = 140 , loss = 0.5117\n",
      "epoch = 150 , loss = 0.5023\n",
      "epoch = 160 , loss = 0.4933\n",
      "epoch = 170 , loss = 0.4848\n",
      "epoch = 180 , loss = 0.4766\n",
      "epoch = 190 , loss = 0.4689\n",
      "epoch = 200 , loss = 0.4614\n",
      "epoch = 210 , loss = 0.4543\n",
      "epoch = 220 , loss = 0.4475\n",
      "epoch = 230 , loss = 0.4410\n",
      "epoch = 240 , loss = 0.4347\n",
      "epoch = 250 , loss = 0.4287\n",
      "epoch = 260 , loss = 0.4229\n",
      "epoch = 270 , loss = 0.4173\n",
      "epoch = 280 , loss = 0.4120\n",
      "epoch = 290 , loss = 0.4068\n",
      "epoch = 300 , loss = 0.4018\n",
      "epoch = 310 , loss = 0.3970\n",
      "epoch = 320 , loss = 0.3923\n",
      "epoch = 330 , loss = 0.3879\n",
      "epoch = 340 , loss = 0.3835\n",
      "epoch = 350 , loss = 0.3793\n",
      "epoch = 360 , loss = 0.3752\n",
      "epoch = 370 , loss = 0.3713\n",
      "epoch = 380 , loss = 0.3674\n",
      "epoch = 390 , loss = 0.3637\n",
      "epoch = 400 , loss = 0.3601\n",
      "epoch = 410 , loss = 0.3566\n",
      "epoch = 420 , loss = 0.3532\n",
      "epoch = 430 , loss = 0.3499\n",
      "epoch = 440 , loss = 0.3467\n",
      "epoch = 450 , loss = 0.3435\n",
      "epoch = 460 , loss = 0.3405\n",
      "epoch = 470 , loss = 0.3375\n",
      "epoch = 480 , loss = 0.3346\n",
      "epoch = 490 , loss = 0.3318\n",
      "epoch = 500 , loss = 0.3290\n",
      "epoch = 510 , loss = 0.3263\n",
      "epoch = 520 , loss = 0.3237\n",
      "epoch = 530 , loss = 0.3211\n",
      "epoch = 540 , loss = 0.3186\n",
      "epoch = 550 , loss = 0.3162\n",
      "epoch = 560 , loss = 0.3138\n",
      "epoch = 570 , loss = 0.3115\n",
      "epoch = 580 , loss = 0.3092\n",
      "epoch = 590 , loss = 0.3070\n",
      "epoch = 600 , loss = 0.3048\n",
      "epoch = 610 , loss = 0.3026\n",
      "epoch = 620 , loss = 0.3005\n",
      "epoch = 630 , loss = 0.2985\n",
      "epoch = 640 , loss = 0.2965\n",
      "epoch = 650 , loss = 0.2945\n",
      "epoch = 660 , loss = 0.2926\n",
      "epoch = 670 , loss = 0.2907\n",
      "epoch = 680 , loss = 0.2888\n",
      "epoch = 690 , loss = 0.2870\n",
      "epoch = 700 , loss = 0.2852\n",
      "epoch = 710 , loss = 0.2835\n",
      "epoch = 720 , loss = 0.2817\n",
      "epoch = 730 , loss = 0.2801\n",
      "epoch = 740 , loss = 0.2784\n",
      "epoch = 750 , loss = 0.2768\n",
      "epoch = 760 , loss = 0.2752\n",
      "epoch = 770 , loss = 0.2736\n",
      "epoch = 780 , loss = 0.2721\n",
      "epoch = 790 , loss = 0.2705\n",
      "epoch = 800 , loss = 0.2690\n",
      "epoch = 810 , loss = 0.2676\n",
      "epoch = 820 , loss = 0.2661\n",
      "epoch = 830 , loss = 0.2647\n",
      "epoch = 840 , loss = 0.2633\n",
      "epoch = 850 , loss = 0.2619\n",
      "epoch = 860 , loss = 0.2606\n",
      "epoch = 870 , loss = 0.2593\n",
      "epoch = 880 , loss = 0.2579\n",
      "epoch = 890 , loss = 0.2566\n",
      "epoch = 900 , loss = 0.2554\n",
      "epoch = 910 , loss = 0.2541\n",
      "epoch = 920 , loss = 0.2529\n",
      "epoch = 930 , loss = 0.2517\n",
      "epoch = 940 , loss = 0.2505\n",
      "epoch = 950 , loss = 0.2493\n",
      "epoch = 960 , loss = 0.2481\n",
      "epoch = 970 , loss = 0.2470\n",
      "epoch = 980 , loss = 0.2459\n",
      "epoch = 990 , loss = 0.2447\n",
      "epoch = 1000 , loss = 0.2436\n"
     ]
    }
   ],
   "source": [
    "for epoch in range(1000):\n",
    "    y_pred = model(X_train)\n",
    "    \n",
    "    loss = criterion(y_pred , y_train)\n",
    "    \n",
    "    loss.backward()\n",
    "    \n",
    "    optimizer.step()\n",
    "    \n",
    "    \n",
    "    optimizer.zero_grad()\n",
    "    \n",
    "    if (epoch +1) %100 == 0:\n",
    "        print(f'epoch = {epoch +1} , loss = {loss.item():.4f}' )"
   ]
  },
  {
   "cell_type": "code",
   "execution_count": 18,
   "metadata": {},
   "outputs": [
    {
     "name": "stdout",
     "output_type": "stream",
     "text": [
      "accuracy = 0.8860\n"
     ]
    }
   ],
   "source": [
    "with torch.no_grad():\n",
    "    y_predicted = model(X_test)\n",
    "    y_pred_classes = y_predicted.round()\n",
    "    \n",
    "    accuracy = y_pred_classes.eq(y_test).sum() / float(y_test.shape[0])\n",
    "    print(f'accuracy = {accuracy:.4f}')"
   ]
  },
  {
   "cell_type": "code",
   "execution_count": null,
   "metadata": {},
   "outputs": [],
   "source": []
  }
 ],
 "metadata": {
  "kernelspec": {
   "display_name": "base",
   "language": "python",
   "name": "base"
  },
  "language_info": {
   "codemirror_mode": {
    "name": "ipython",
    "version": 3
   },
   "file_extension": ".py",
   "mimetype": "text/x-python",
   "name": "python",
   "nbconvert_exporter": "python",
   "pygments_lexer": "ipython3",
   "version": "3.8.5"
  }
 },
 "nbformat": 4,
 "nbformat_minor": 4
}
