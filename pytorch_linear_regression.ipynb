{
 "cells": [
  {
   "cell_type": "code",
   "execution_count": 1,
   "metadata": {},
   "outputs": [
    {
     "name": "stderr",
     "output_type": "stream",
     "text": [
      "<frozen importlib._bootstrap>:219: RuntimeWarning: numpy.ufunc size changed, may indicate binary incompatibility. Expected 192 from C header, got 216 from PyObject\n"
     ]
    }
   ],
   "source": [
    "import torch\n",
    "import torch.nn as nn\n",
    "from sklearn import datasets\n",
    "import numpy as np\n",
    "import matplotlib.pyplot as plt"
   ]
  },
  {
   "cell_type": "code",
   "execution_count": 2,
   "metadata": {},
   "outputs": [],
   "source": [
    "X_numpy , y_numpy = datasets.make_regression(n_samples= 100 , n_features = 1 , noise= 10 , random_state=12)"
   ]
  },
  {
   "cell_type": "code",
   "execution_count": 3,
   "metadata": {},
   "outputs": [],
   "source": [
    "X = torch.from_numpy(X_numpy.astype(np.float32))"
   ]
  },
  {
   "cell_type": "code",
   "execution_count": 4,
   "metadata": {},
   "outputs": [],
   "source": [
    "y = torch.from_numpy(y_numpy.astype(np.float32))"
   ]
  },
  {
   "cell_type": "code",
   "execution_count": 5,
   "metadata": {},
   "outputs": [
    {
     "data": {
      "text/plain": [
       "tensor([ 2.4309e+01, -6.4191e+01, -1.2643e+01, -4.3021e+01, -3.4887e+01,\n",
       "        -9.2955e+00, -1.7049e+01, -4.7203e+01,  1.9530e+01,  2.9655e+01,\n",
       "         2.3712e+01,  3.0847e+00, -6.3820e+01, -2.8761e+01,  2.6977e+01,\n",
       "         2.0820e+01,  3.8842e+01, -2.9396e+01, -2.0514e+01, -3.5781e+01,\n",
       "        -2.5446e+00,  8.6087e+01,  5.2707e+01, -3.3258e+01,  5.5191e+01,\n",
       "        -4.1328e+01, -5.6502e+01,  2.7230e+01, -4.9829e+01,  4.8328e+01,\n",
       "        -3.8969e+01, -3.8664e-01,  6.0466e+00,  6.4042e+01,  2.9658e+01,\n",
       "         3.2210e+01, -4.8685e+00, -4.9175e+01, -7.4883e+01,  1.1051e+01,\n",
       "        -8.1055e+01, -2.9020e+01,  8.6147e-01,  1.2578e+01,  1.9425e+01,\n",
       "        -1.4277e+01,  8.7875e+00, -2.5061e+01, -1.8161e+01,  2.5888e+01,\n",
       "        -2.3071e+01, -1.1381e+01,  1.0451e+01, -1.7736e+00, -4.5711e+01,\n",
       "         2.9819e+01, -1.3348e+01, -5.8632e+01,  2.1626e+01,  5.1401e+01,\n",
       "        -2.5145e+01,  2.6930e+01,  6.2985e+00,  4.3723e+00,  6.0750e+00,\n",
       "         2.1395e+01, -3.1120e+01,  4.4311e+01,  7.9714e+00, -2.2305e+01,\n",
       "        -1.2003e+02,  6.6807e+01, -1.4385e+01, -2.6063e+01, -1.0877e+01,\n",
       "        -7.4766e+01, -7.0636e+01, -7.1935e+00,  1.1263e+02, -2.2549e+00,\n",
       "         8.6947e+00, -8.5863e-02, -3.1374e+01, -1.3526e+01, -4.6655e+01,\n",
       "         6.7637e+00,  6.7133e+00,  6.5838e+01,  6.0828e+01, -1.8122e+01,\n",
       "         1.3973e+01, -5.5210e+01, -8.3497e+01, -4.4217e+01, -7.2975e-01,\n",
       "        -2.4456e+01,  3.8789e+01,  1.4429e+01, -5.1392e+01, -5.0609e+01])"
      ]
     },
     "execution_count": 5,
     "metadata": {},
     "output_type": "execute_result"
    }
   ],
   "source": [
    "y"
   ]
  },
  {
   "cell_type": "code",
   "execution_count": 6,
   "metadata": {},
   "outputs": [],
   "source": [
    "y = y.view(y.shape[0],1)"
   ]
  },
  {
   "cell_type": "code",
   "execution_count": 7,
   "metadata": {},
   "outputs": [
    {
     "data": {
      "text/plain": [
       "torch.Size([100, 1])"
      ]
     },
     "execution_count": 7,
     "metadata": {},
     "output_type": "execute_result"
    }
   ],
   "source": [
    "y.shape"
   ]
  },
  {
   "cell_type": "code",
   "execution_count": 8,
   "metadata": {},
   "outputs": [],
   "source": [
    "n_samples , n_features = X.shape"
   ]
  },
  {
   "cell_type": "code",
   "execution_count": 10,
   "metadata": {},
   "outputs": [],
   "source": [
    "input_size = n_features\n",
    "output_size = 1"
   ]
  },
  {
   "cell_type": "code",
   "execution_count": 15,
   "metadata": {},
   "outputs": [],
   "source": [
    "##Model building\n",
    "class linearRegression(nn.Module):\n",
    "    def __init__(self , input_dim, output_dim):\n",
    "        super(linearRegression,self).__init__()\n",
    "        #define layers\n",
    "        self.lin = nn.Linear(input_dim, output_dim)\n",
    "    def forward(self,X):\n",
    "        return self.lin(X)\n",
    "        "
   ]
  },
  {
   "cell_type": "code",
   "execution_count": 16,
   "metadata": {},
   "outputs": [],
   "source": [
    "model = linearRegression(input_size, output_size)"
   ]
  },
  {
   "cell_type": "code",
   "execution_count": 18,
   "metadata": {},
   "outputs": [],
   "source": [
    "## LOss and optimizer\n",
    "criterion = nn.MSELoss()\n",
    "optimizer = torch.optim.SGD(model.parameters(), lr = 0.001)"
   ]
  },
  {
   "cell_type": "code",
   "execution_count": 21,
   "metadata": {},
   "outputs": [
    {
     "name": "stdout",
     "output_type": "stream",
     "text": [
      "epoch : 10 , loss = 1070.7035\n",
      "epoch : 20 , loss = 1027.8895\n",
      "epoch : 30 , loss = 986.9913\n",
      "epoch : 40 , loss = 947.9221\n",
      "epoch : 50 , loss = 910.5991\n",
      "epoch : 60 , loss = 874.9434\n",
      "epoch : 70 , loss = 840.8795\n",
      "epoch : 80 , loss = 808.3353\n",
      "epoch : 90 , loss = 777.2424\n",
      "epoch : 100 , loss = 747.5348\n",
      "epoch : 110 , loss = 719.1506\n",
      "epoch : 120 , loss = 692.0295\n",
      "epoch : 130 , loss = 666.1151\n",
      "epoch : 140 , loss = 641.3524\n",
      "epoch : 150 , loss = 617.6900\n",
      "epoch : 160 , loss = 595.0781\n",
      "epoch : 170 , loss = 573.4695\n",
      "epoch : 180 , loss = 552.8192\n",
      "epoch : 190 , loss = 533.0840\n",
      "epoch : 200 , loss = 514.2225\n",
      "epoch : 210 , loss = 496.1958\n",
      "epoch : 220 , loss = 478.9664\n",
      "epoch : 230 , loss = 462.4985\n",
      "epoch : 240 , loss = 446.7581\n",
      "epoch : 250 , loss = 431.7123\n",
      "epoch : 260 , loss = 417.3303\n",
      "epoch : 270 , loss = 403.5822\n",
      "epoch : 280 , loss = 390.4396\n",
      "epoch : 290 , loss = 377.8756\n",
      "epoch : 300 , loss = 365.8642\n",
      "epoch : 310 , loss = 354.3807\n",
      "epoch : 320 , loss = 343.4019\n",
      "epoch : 330 , loss = 332.9050\n",
      "epoch : 340 , loss = 322.8685\n",
      "epoch : 350 , loss = 313.2720\n",
      "epoch : 360 , loss = 304.0958\n",
      "epoch : 370 , loss = 295.3213\n",
      "epoch : 380 , loss = 286.9306\n",
      "epoch : 390 , loss = 278.9068\n",
      "epoch : 400 , loss = 271.2332\n",
      "epoch : 410 , loss = 263.8946\n",
      "epoch : 420 , loss = 256.8761\n",
      "epoch : 430 , loss = 250.1634\n",
      "epoch : 440 , loss = 243.7431\n",
      "epoch : 450 , loss = 237.6023\n",
      "epoch : 460 , loss = 231.7284\n",
      "epoch : 470 , loss = 226.1097\n",
      "epoch : 480 , loss = 220.7350\n",
      "epoch : 490 , loss = 215.5935\n",
      "epoch : 500 , loss = 210.6749\n",
      "epoch : 510 , loss = 205.9693\n",
      "epoch : 520 , loss = 201.4674\n",
      "epoch : 530 , loss = 197.1602\n",
      "epoch : 540 , loss = 193.0392\n",
      "epoch : 550 , loss = 189.0961\n",
      "epoch : 560 , loss = 185.3231\n",
      "epoch : 570 , loss = 181.7129\n",
      "epoch : 580 , loss = 178.2581\n",
      "epoch : 590 , loss = 174.9521\n",
      "epoch : 600 , loss = 171.7883\n",
      "epoch : 610 , loss = 168.7605\n",
      "epoch : 620 , loss = 165.8626\n",
      "epoch : 630 , loss = 163.0891\n",
      "epoch : 640 , loss = 160.4346\n",
      "epoch : 650 , loss = 157.8937\n",
      "epoch : 660 , loss = 155.4616\n",
      "epoch : 670 , loss = 153.1334\n",
      "epoch : 680 , loss = 150.9048\n",
      "epoch : 690 , loss = 148.7712\n",
      "epoch : 700 , loss = 146.7288\n",
      "epoch : 710 , loss = 144.7734\n",
      "epoch : 720 , loss = 142.9012\n",
      "epoch : 730 , loss = 141.1088\n",
      "epoch : 740 , loss = 139.3926\n",
      "epoch : 750 , loss = 137.7493\n",
      "epoch : 760 , loss = 136.1757\n",
      "epoch : 770 , loss = 134.6688\n",
      "epoch : 780 , loss = 133.2258\n",
      "epoch : 790 , loss = 131.8439\n",
      "epoch : 800 , loss = 130.5204\n",
      "epoch : 810 , loss = 129.2530\n",
      "epoch : 820 , loss = 128.0389\n",
      "epoch : 830 , loss = 126.8762\n",
      "epoch : 840 , loss = 125.7623\n",
      "epoch : 850 , loss = 124.6955\n",
      "epoch : 860 , loss = 123.6736\n",
      "epoch : 870 , loss = 122.6945\n",
      "epoch : 880 , loss = 121.7566\n",
      "epoch : 890 , loss = 120.8581\n",
      "epoch : 900 , loss = 119.9973\n",
      "epoch : 910 , loss = 119.1725\n",
      "epoch : 920 , loss = 118.3824\n",
      "epoch : 930 , loss = 117.6252\n",
      "epoch : 940 , loss = 116.8997\n",
      "epoch : 950 , loss = 116.2044\n",
      "epoch : 960 , loss = 115.5382\n",
      "epoch : 970 , loss = 114.8997\n",
      "epoch : 980 , loss = 114.2878\n",
      "epoch : 990 , loss = 113.7014\n",
      "epoch : 1000 , loss = 113.1393\n"
     ]
    }
   ],
   "source": [
    "for epoch in range(1000):\n",
    "    #forward\n",
    "    y_pred = model(X)\n",
    "    loss = criterion(y_pred , y)\n",
    "    \n",
    "    loss.backward()\n",
    "    \n",
    "    optimizer.step()\n",
    "    \n",
    "    optimizer.zero_grad()\n",
    "    \n",
    "    if (epoch+1)%10 == 0:\n",
    "        print(f'epoch : {epoch +1} , loss = {loss.item():.4f}')\n",
    "        \n"
   ]
  },
  {
   "cell_type": "code",
   "execution_count": 24,
   "metadata": {},
   "outputs": [
    {
     "data": {
      "image/png": "[encoded data removed]",
      "text/plain": [
       "<Figure size 432x288 with 1 Axes>"
      ]
     },
     "metadata": {
      "needs_background": "light"
     },
     "output_type": "display_data"
    }
   ],
   "source": [
    "#PLotting\n",
    "\n",
    "predicted = model(X).detach().numpy()\n",
    "plt.plot(X_numpy, y_numpy, 'ro')\n",
    "plt.plot(X_numpy , predicted, \"b\")\n",
    "plt.show()"
   ]
  },
  {
   "cell_type": "code",
   "execution_count": null,
   "metadata": {},
   "outputs": [],
   "source": []
  }
 ],
 "metadata": {
  "kernelspec": {
   "display_name": "base",
   "language": "python",
   "name": "base"
  },
  "language_info": {
   "codemirror_mode": {
    "name": "ipython",
    "version": 3
   },
   "file_extension": ".py",
   "mimetype": "text/x-python",
   "name": "python",
   "nbconvert_exporter": "python",
   "pygments_lexer": "ipython3",
   "version": "3.8.5"
  }
 },
 "nbformat": 4,
 "nbformat_minor": 4
}
