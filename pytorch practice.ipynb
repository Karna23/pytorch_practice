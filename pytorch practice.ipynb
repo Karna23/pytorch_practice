{
 "cells": [
  {
   "cell_type": "code",
   "execution_count": 1,
   "metadata": {},
   "outputs": [],
   "source": [
    "import torch"
   ]
  },
  {
   "cell_type": "code",
   "execution_count": 2,
   "metadata": {},
   "outputs": [
    {
     "data": {
      "text/plain": [
       "True"
      ]
     },
     "execution_count": 2,
     "metadata": {},
     "output_type": "execute_result"
    }
   ],
   "source": [
    "torch.cuda.is_available()"
   ]
  },
  {
   "cell_type": "code",
   "execution_count": 3,
   "metadata": {},
   "outputs": [
    {
     "name": "stdout",
     "output_type": "stream",
     "text": [
      "Sat Mar 25 11:49:19 2023       \n",
      "+-----------------------------------------------------------------------------+\n",
      "| NVIDIA-SMI 526.56       Driver Version: 526.56       CUDA Version: 12.0     |\n",
      "|-------------------------------+----------------------+----------------------+\n",
      "| GPU  Name            TCC/WDDM | Bus-Id        Disp.A | Volatile Uncorr. ECC |\n",
      "| Fan  Temp  Perf  Pwr:Usage/Cap|         Memory-Usage | GPU-Util  Compute M. |\n",
      "|                               |                      |               MIG M. |\n",
      "|===============================+======================+======================|\n",
      "|   0  NVIDIA GeForce ... WDDM  | 00000000:01:00.0 Off |                  N/A |\n",
      "| N/A   45C    P0    N/A /  N/A |    260MiB /  4096MiB |     73%      Default |\n",
      "|                               |                      |                  N/A |\n",
      "+-------------------------------+----------------------+----------------------+\n",
      "                                                                               \n",
      "+-----------------------------------------------------------------------------+\n",
      "| Processes:                                                                  |\n",
      "|  GPU   GI   CI        PID   Type   Process name                  GPU Memory |\n",
      "|        ID   ID                                                   Usage      |\n",
      "|=============================================================================|\n",
      "|    0   N/A  N/A      2324    C+G   ...kzcwy\\mcafee-security.exe    N/A      |\n",
      "|    0   N/A  N/A      3368    C+G   ...8wekyb3d8bbwe\\GameBar.exe    N/A      |\n",
      "|    0   N/A  N/A      6720    C+G   ...462.76\\msedgewebview2.exe    N/A      |\n",
      "|    0   N/A  N/A      6952    C+G   ...e\\PhoneExperienceHost.exe    N/A      |\n",
      "|    0   N/A  N/A      9504    C+G   ...462.76\\msedgewebview2.exe    N/A      |\n",
      "|    0   N/A  N/A      9752    C+G   ...n1h2txyewy\\SearchHost.exe    N/A      |\n",
      "|    0   N/A  N/A      9760    C+G   ...artMenuExperienceHost.exe    N/A      |\n",
      "|    0   N/A  N/A     10964    C+G   ...jag6ke6\\HP.JumpStarts.exe    N/A      |\n",
      "|    0   N/A  N/A     11328    C+G   ...8wekyb3d8bbwe\\Cortana.exe    N/A      |\n",
      "|    0   N/A  N/A     12812    C+G   ...2txyewy\\TextInputHost.exe    N/A      |\n",
      "|    0   N/A  N/A     15452    C+G   ...ser\\Application\\brave.exe    N/A      |\n",
      "|    0   N/A  N/A     16204    C+G   ...cw5n1h2txyewy\\LockApp.exe    N/A      |\n",
      "+-----------------------------------------------------------------------------+\n"
     ]
    }
   ],
   "source": [
    "!nvidia-smi"
   ]
  },
  {
   "cell_type": "code",
   "execution_count": 5,
   "metadata": {},
   "outputs": [],
   "source": [
    "x = torch.tensor(1.0)\n",
    "y = torch.tensor(2.0)\n",
    "w= torch.tensor(1.0 , requires_grad = True)\n",
    "#Forward pass\n",
    "y_hat = w*x\n",
    "\n",
    "loss = (y_hat - y)**2"
   ]
  },
  {
   "cell_type": "code",
   "execution_count": 6,
   "metadata": {},
   "outputs": [
    {
     "data": {
      "text/plain": [
       "tensor(1., grad_fn=<PowBackward0>)"
      ]
     },
     "execution_count": 6,
     "metadata": {},
     "output_type": "execute_result"
    }
   ],
   "source": [
    "loss"
   ]
  },
  {
   "cell_type": "code",
   "execution_count": 7,
   "metadata": {},
   "outputs": [],
   "source": [
    "#backward pass\n",
    "loss.backward()\n"
   ]
  },
  {
   "cell_type": "code",
   "execution_count": 8,
   "metadata": {},
   "outputs": [
    {
     "data": {
      "text/plain": [
       "tensor(-2.)"
      ]
     },
     "execution_count": 8,
     "metadata": {},
     "output_type": "execute_result"
    }
   ],
   "source": [
    "w.grad"
   ]
  },
  {
   "cell_type": "code",
   "execution_count": 9,
   "metadata": {},
   "outputs": [],
   "source": [
    "#update weights\n",
    "#forward pass"
   ]
  },
  {
   "cell_type": "code",
   "execution_count": 10,
   "metadata": {},
   "outputs": [],
   "source": [
    "# Gradient descent in action\n",
    "#example f = 3* x\n",
    "X = torch.tensor([2,3,4,5], dtype= torch.float32)\n",
    "Y = torch.tensor([6,9,12,15],dtype = torch.float32)\n",
    "w = torch.tensor([4],dtype = torch.float32 , requires_grad = True)\n",
    "def forward(X, w):\n",
    "    return X * w\n",
    "\n",
    "def loss(X, Y , w):\n",
    "    y_hat = forward(X,w)\n",
    "    return ((y_hat - Y )**2).mean()\n",
    "\n",
    "n_epoch = 20\n",
    "lr = 0.01\n",
    "\n"
   ]
  },
  {
   "cell_type": "code",
   "execution_count": 11,
   "metadata": {},
   "outputs": [
    {
     "name": "stdout",
     "output_type": "stream",
     "text": [
      "epoch = 1 , loss = 13.5 , w = tensor([4.], requires_grad=True)\n",
      "epoch = 2 , loss = 7.194149971008301 , w = tensor([3.7300], requires_grad=True)\n",
      "epoch = 3 , loss = 3.8337650299072266 , w = tensor([3.5329], requires_grad=True)\n",
      "epoch = 4 , loss = 2.043013095855713 , w = tensor([3.3890], requires_grad=True)\n",
      "epoch = 5 , loss = 1.088721752166748 , w = tensor([3.2840], requires_grad=True)\n",
      "epoch = 6 , loss = 0.5801805853843689 , w = tensor([3.2073], requires_grad=True)\n",
      "epoch = 7 , loss = 0.309177964925766 , w = tensor([3.1513], requires_grad=True)\n",
      "epoch = 8 , loss = 0.16476109623908997 , w = tensor([3.1105], requires_grad=True)\n",
      "epoch = 9 , loss = 0.08780111372470856 , w = tensor([3.0806], requires_grad=True)\n",
      "epoch = 10 , loss = 0.0467890202999115 , w = tensor([3.0589], requires_grad=True)\n",
      "epoch = 11 , loss = 0.024933816865086555 , w = tensor([3.0430], requires_grad=True)\n",
      "epoch = 12 , loss = 0.013287181034684181 , w = tensor([3.0314], requires_grad=True)\n",
      "epoch = 13 , loss = 0.00708076823502779 , w = tensor([3.0229], requires_grad=True)\n",
      "epoch = 14 , loss = 0.003773302771151066 , w = tensor([3.0167], requires_grad=True)\n",
      "epoch = 15 , loss = 0.002010789467021823 , w = tensor([3.0122], requires_grad=True)\n",
      "epoch = 16 , loss = 0.0010715529788285494 , w = tensor([3.0089], requires_grad=True)\n",
      "epoch = 17 , loss = 0.0005710472469218075 , w = tensor([3.0065], requires_grad=True)\n",
      "epoch = 18 , loss = 0.0003043180622626096 , w = tensor([3.0047], requires_grad=True)\n",
      "epoch = 19 , loss = 0.00016216657240875065 , w = tensor([3.0035], requires_grad=True)\n",
      "epoch = 20 , loss = 8.641884051030502e-05 , w = tensor([3.0025], requires_grad=True)\n"
     ]
    }
   ],
   "source": [
    "for epoch in range(n_epoch):\n",
    "    l = loss(X, Y , w)\n",
    "    print(f'epoch = {epoch + 1} , loss = {l} , w = {w}')\n",
    "    \n",
    "    l.backward()\n",
    "    with torch.no_grad():\n",
    "        w -= lr*w.grad\n",
    "    #zero gradients\n",
    "    \n",
    "    w.grad.zero_()\n",
    "    "
   ]
  },
  {
   "cell_type": "markdown",
   "metadata": {},
   "source": [
    "## Raw Model"
   ]
  },
  {
   "cell_type": "code",
   "execution_count": 19,
   "metadata": {},
   "outputs": [
    {
     "name": "stdout",
     "output_type": "stream",
     "text": [
      "4 1\n",
      "initial value : -0.683\n",
      "epoch = 100 , loss = 0.0030659923795610666 , w = 2.9526097774505615 , base = 0.18161681294441223\n",
      "epoch = 200 , loss = 0.002166664693504572 , w = 2.9601621627807617 , base = 0.15267302095890045\n",
      "epoch = 300 , loss = 0.0015310903545469046 , w = 2.9665110111236572 , base = 0.1283418983221054\n",
      "epoch = 400 , loss = 0.0010819598101079464 , w = 2.9718480110168457 , base = 0.1078883484005928\n",
      "epoch = 500 , loss = 0.0007645766017958522 , w = 2.976334571838379 , base = 0.09069442003965378\n",
      "epoch = 600 , loss = 0.0005403143004514277 , w = 2.9801058769226074 , base = 0.07624107599258423\n",
      "epoch = 700 , loss = 0.00038180931005626917 , w = 2.9832763671875 , base = 0.064090795814991\n",
      "epoch = 800 , loss = 0.00026982041890732944 , w = 2.9859416484832764 , base = 0.05387704446911812\n",
      "epoch = 900 , loss = 0.00019067544781137258 , w = 2.9881818294525146 , base = 0.04529088735580444\n",
      "epoch = 1000 , loss = 0.0001347462530247867 , w = 2.990065336227417 , base = 0.03807343915104866\n",
      "final value : 17.978\n"
     ]
    }
   ],
   "source": [
    "import torch\n",
    "import torch.nn as nn\n",
    "\n",
    "\n",
    "# implementing own model with inbuilt loss functions\n",
    "X = torch.tensor([[2],[3],[4],[5]], dtype= torch.float32)\n",
    "Y = torch.tensor([[6],[9],[12],[15]],dtype = torch.float32)\n",
    "\n",
    "no_samples, no_features = X.shape\n",
    "print(no_samples , no_features)\n",
    "\n",
    "input_size = no_features\n",
    "output_size = no_features\n",
    "\n",
    "\n",
    "\n",
    "learn_index = 0.01\n",
    "n_epoch = 1000\n",
    "X_test = torch.tensor([6],dtype = torch.float32 )\n",
    "\n",
    "#Model \n",
    "\n",
    "#model = nn.Linear(input_size, output_size )\n",
    "class LinearRegression(nn.Module):\n",
    "    def __init__(self, input_dim , output_dim):\n",
    "        super(LinearRegression,self).__init__()\n",
    "        #define layers\n",
    "        self.lin = nn.Linear(input_dim , output_dim)\n",
    "        \n",
    "    def forward(self , x):\n",
    "        return self.lin(x)\n",
    "\n",
    "    \n",
    "model = LinearRegression(input_size, output_size)\n",
    "\n",
    "loss = nn.MSELoss()\n",
    "optimizer = torch.optim.SGD(model.parameters() , lr = learn_index)\n",
    "initial_value = model(X_test).item()\n",
    "\n",
    "print(f\"initial value : {initial_value:.3f}\" )\n",
    "\n",
    "for epoch in range(n_epoch):\n",
    "    y_pred = model(X)\n",
    "    l = loss(Y, y_pred)\n",
    "    l.backward()\n",
    "    optimizer.step()\n",
    "    optimizer.zero_grad()\n",
    "    [w,b] = model.parameters()\n",
    "    if (epoch + 1) % 100 == 0: \n",
    "        print(f'epoch = {epoch + 1} , loss = {l} , w = {w[0][0].item()} , base = {b[0].item()}')\n",
    " \n",
    "final_value = model(X_test).item()    \n",
    "print(f\"final value : {final_value:.3f}\" )"
   ]
  },
  {
   "cell_type": "markdown",
   "metadata": {},
   "source": [
    "## Linear Regression"
   ]
  },
  {
   "cell_type": "code",
   "execution_count": 1,
   "metadata": {},
   "outputs": [
    {
     "name": "stderr",
     "output_type": "stream",
     "text": [
      "<frozen importlib._bootstrap>:219: RuntimeWarning: numpy.ufunc size changed, may indicate binary incompatibility. Expected 192 from C header, got 216 from PyObject\n"
     ]
    }
   ],
   "source": [
    "import torch\n",
    "import torch.nn as nn\n",
    "from sklearn import datasets\n",
    "import matplotlib.pyplot as plt\n",
    "import numpy as np\n",
    "#prepare dataset\n",
    "X_numpy,  y_numpy = datasets.make_regression(n_samples= 100 , n_features=1 , noise= 20, random_state=1)\n",
    "\n",
    "X = torch.from_numpy(X_numpy.astype(np.float32))\n",
    "\n",
    "y = torch.from_numpy(y_numpy.astype(np.float32))\n",
    "\n",
    "\n"
   ]
  },
  {
   "cell_type": "code",
   "execution_count": 2,
   "metadata": {},
   "outputs": [
    {
     "data": {
      "text/plain": [
       "torch.Size([100])"
      ]
     },
     "execution_count": 2,
     "metadata": {},
     "output_type": "execute_result"
    }
   ],
   "source": [
    "y.shape"
   ]
  },
  {
   "cell_type": "code",
   "execution_count": 6,
   "metadata": {},
   "outputs": [],
   "source": [
    "y = y.view(y.shape[0], 1)"
   ]
  },
  {
   "cell_type": "code",
   "execution_count": 7,
   "metadata": {},
   "outputs": [],
   "source": [
    "#create model"
   ]
  },
  {
   "cell_type": "code",
   "execution_count": 8,
   "metadata": {},
   "outputs": [],
   "source": [
    "n_samples,n_features = X.shape\n",
    "input_size = n_features\n",
    "output_size = 1\n"
   ]
  },
  {
   "cell_type": "code",
   "execution_count": 9,
   "metadata": {},
   "outputs": [],
   "source": [
    "model = nn.Linear(input_size, output_size)\n"
   ]
  },
  {
   "cell_type": "code",
   "execution_count": 10,
   "metadata": {},
   "outputs": [],
   "source": [
    "#loss and optimizers"
   ]
  },
  {
   "cell_type": "code",
   "execution_count": 12,
   "metadata": {},
   "outputs": [],
   "source": [
    "criterion = nn.MSELoss()\n",
    "optimizer = torch.optim.SGD(model.parameters() , lr = 0.01)"
   ]
  },
  {
   "cell_type": "code",
   "execution_count": 13,
   "metadata": {},
   "outputs": [],
   "source": [
    "\n",
    "#training loop"
   ]
  },
  {
   "cell_type": "code",
   "execution_count": 21,
   "metadata": {},
   "outputs": [
    {
     "name": "stdout",
     "output_type": "stream",
     "text": [
      "epoch = 100 , loss = 332.5676 , w = 82.4847 , base = 4.0540\n",
      "epoch = 200 , loss = 332.5676 , w = 82.4847 , base = 4.0540\n",
      "epoch = 300 , loss = 332.5676 , w = 82.4847 , base = 4.0540\n",
      "epoch = 400 , loss = 332.5676 , w = 82.4847 , base = 4.0540\n",
      "epoch = 500 , loss = 332.5676 , w = 82.4847 , base = 4.0540\n",
      "epoch = 600 , loss = 332.5676 , w = 82.4847 , base = 4.0540\n",
      "epoch = 700 , loss = 332.5676 , w = 82.4847 , base = 4.0540\n",
      "epoch = 800 , loss = 332.5676 , w = 82.4847 , base = 4.0540\n",
      "epoch = 900 , loss = 332.5676 , w = 82.4847 , base = 4.0540\n",
      "epoch = 1000 , loss = 332.5676 , w = 82.4847 , base = 4.0540\n"
     ]
    }
   ],
   "source": [
    "n_iter = 1000\n",
    "#print(\"initial loss :\" )\n",
    "for epoch in range(n_iter):\n",
    "    #forward \n",
    "    Y_pred = model(X)\n",
    "    #calculate loss\n",
    "    loss = criterion(Y_pred,y)\n",
    "    #backpropogation\n",
    "    loss.backward()\n",
    "    \n",
    "    #update weights\n",
    "    optimizer.step()\n",
    "    #reset to zero \n",
    "    optimizer.zero_grad()\n",
    "    [w,b] = model.parameters()\n",
    "    if (epoch + 1) % 100 == 0: \n",
    "        print(f'epoch = {epoch + 1} , loss = {loss:.4f} , w = {w[0][0].item():.4f} , base = {b[0].item():.4f}')\n",
    " "
   ]
  },
  {
   "cell_type": "code",
   "execution_count": 23,
   "metadata": {},
   "outputs": [
    {
     "data": {
      "image/png": "[encoded data removed]",
      "text/plain": [
       "<Figure size 432x288 with 1 Axes>"
      ]
     },
     "metadata": {
      "needs_background": "light"
     },
     "output_type": "display_data"
    }
   ],
   "source": [
    "#Prediction\n",
    "predicted = model(X).detach().numpy()\n",
    "plt.plot(X_numpy , y_numpy, \"ro\" )\n",
    "plt.plot(X_numpy , predicted , \"g\")\n",
    "plt.show()\n"
   ]
  },
  {
   "cell_type": "markdown",
   "metadata": {},
   "source": [
    "## Logistic Regression"
   ]
  },
  {
   "cell_type": "code",
   "execution_count": 71,
   "metadata": {},
   "outputs": [],
   "source": [
    "import torch\n",
    "import torch.nn as nn\n",
    "from sklearn import datasets\n",
    "from sklearn.preprocessing import StandardScaler\n",
    "from sklearn.model_selection import train_test_split"
   ]
  },
  {
   "cell_type": "code",
   "execution_count": 72,
   "metadata": {},
   "outputs": [],
   "source": [
    "# Load Dataset\n",
    "\n",
    "bc = datasets.load_breast_cancer()\n",
    "X,y = bc.data,bc.target\n",
    "\n",
    "n_samples, n_features = X.shape"
   ]
  },
  {
   "cell_type": "code",
   "execution_count": 73,
   "metadata": {},
   "outputs": [
    {
     "data": {
      "text/plain": [
       "30"
      ]
     },
     "execution_count": 73,
     "metadata": {},
     "output_type": "execute_result"
    }
   ],
   "source": [
    "n_features"
   ]
  },
  {
   "cell_type": "code",
   "execution_count": 74,
   "metadata": {},
   "outputs": [],
   "source": [
    "X_train , X_test, y_train, y_test = train_test_split(X, y , test_size = 0.2 , random_state = 2)"
   ]
  },
  {
   "cell_type": "code",
   "execution_count": 75,
   "metadata": {},
   "outputs": [],
   "source": [
    "#scale feature Make 0 mean data and unit standard deviation , always recommended for logistic regression\n",
    "\n",
    "sc = StandardScaler()\n",
    "X_train  = sc.fit_transform(X_train)\n",
    "X_test  = sc.fit_transform(X_test)\n",
    "\n",
    "X_train = torch.from_numpy(X_train.astype(np.float32))\n",
    "X_test = torch.from_numpy(X_test.astype(np.float32))\n",
    "\n",
    "y_train = torch.from_numpy(y_train.astype(np.float32))\n",
    "y_test = torch.from_numpy(y_test.astype(np.float32))"
   ]
  },
  {
   "cell_type": "code",
   "execution_count": 76,
   "metadata": {},
   "outputs": [],
   "source": [
    "y_train = y_train.view(y_train.shape[0],1)\n",
    "y_test = y_test.view(y_test.shape[0],1) "
   ]
  },
  {
   "cell_type": "code",
   "execution_count": 77,
   "metadata": {},
   "outputs": [],
   "source": [
    "class LogisticRegression(nn.Module):\n",
    "    def __init__(self, n_features):\n",
    "        super(LogisticRegression , self).__init__()\n",
    "        #define layers\n",
    "        \n",
    "        self.linear1 = nn.Linear(n_features , 1)\n",
    "    \n",
    "    def forward(self , x):\n",
    "        y_pred = torch.sigmoid(self.linear1(x))\n",
    "        return y_pred\n",
    "\n",
    "    \n",
    "model = LogisticRegression(n_features)\n"
   ]
  },
  {
   "cell_type": "code",
   "execution_count": 78,
   "metadata": {},
   "outputs": [],
   "source": [
    "##Define loss and optimizer\n",
    "\n",
    "criterion = nn.BCELoss()\n",
    "optimizer = torch.optim.SGD(model.parameters(), lr = 0.01)"
   ]
  },
  {
   "cell_type": "code",
   "execution_count": 79,
   "metadata": {},
   "outputs": [],
   "source": [
    "## Training loop"
   ]
  },
  {
   "cell_type": "code",
   "execution_count": 80,
   "metadata": {},
   "outputs": [
    {
     "name": "stdout",
     "output_type": "stream",
     "text": [
      "epoch = 10 , loss = 0.5964\n",
      "epoch = 20 , loss = 0.4864\n",
      "epoch = 30 , loss = 0.4199\n",
      "epoch = 40 , loss = 0.3754\n",
      "epoch = 50 , loss = 0.3432\n",
      "epoch = 60 , loss = 0.3186\n",
      "epoch = 70 , loss = 0.2991\n",
      "epoch = 80 , loss = 0.2831\n",
      "epoch = 90 , loss = 0.2697\n",
      "epoch = 100 , loss = 0.2582\n"
     ]
    }
   ],
   "source": [
    "n_epoch = 100\n",
    "\n",
    "for epoch in range(n_epoch):\n",
    "    #forward \n",
    "    y_predicted = model(X_train)\n",
    "    loss = criterion(y_predicted , y_train)\n",
    "    #backward\n",
    "    loss.backward()\n",
    "    #update\n",
    "    \n",
    "    optimizer.step()\n",
    "    \n",
    "    #Empty gradients\n",
    "    optimizer.zero_grad()\n",
    "    \n",
    "    if (epoch + 1) % 10== 0: \n",
    "        print(f'epoch = {epoch + 1} , loss = {loss.item():.4f}')\n",
    "    \n",
    "    "
   ]
  },
  {
   "cell_type": "code",
   "execution_count": 81,
   "metadata": {},
   "outputs": [
    {
     "name": "stdout",
     "output_type": "stream",
     "text": [
      "accuracy = 0.9386\n"
     ]
    }
   ],
   "source": [
    "with torch.no_grad():\n",
    "    y_pred = model(X_test)\n",
    "    y_pred_cls = y_pred.round()\n",
    "    \n",
    "    acc = y_pred_cls.eq(y_test).sum() / float(y_test.shape[0])\n",
    "    print(f'accuracy = {acc:.4f}')"
   ]
  },
  {
   "cell_type": "code",
   "execution_count": null,
   "metadata": {},
   "outputs": [],
   "source": []
  }
 ],
 "metadata": {
  "kernelspec": {
   "display_name": "base",
   "language": "python",
   "name": "base"
  },
  "language_info": {
   "codemirror_mode": {
    "name": "ipython",
    "version": 3
   },
   "file_extension": ".py",
   "mimetype": "text/x-python",
   "name": "python",
   "nbconvert_exporter": "python",
   "pygments_lexer": "ipython3",
   "version": "3.8.5"
  }
 },
 "nbformat": 4,
 "nbformat_minor": 4
}
